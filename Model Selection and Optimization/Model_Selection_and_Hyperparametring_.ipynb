{
  "cells": [
    {
      "cell_type": "code",
      "execution_count": 1,
      "metadata": {
        "id": "dL2l-_su0awy"
      },
      "outputs": [],
      "source": [
        "import pandas as pd\n",
        "from gensim.models import Word2Vec\n",
        "import numpy as np\n",
        "from sklearn.feature_extraction.text import TfidfVectorizer\n",
        "from sklearn.svm import SVC\n",
        "from sklearn.metrics import classification_report, accuracy_score"
      ]
    },
    {
      "cell_type": "code",
      "execution_count": 2,
      "metadata": {
        "id": "GgE_9Yzr0qIo"
      },
      "outputs": [],
      "source": [
        "sample_df = pd.read_csv('IMDB_reviews_Sample(1000).csv')"
      ]
    },
    {
      "cell_type": "code",
      "execution_count": 3,
      "metadata": {
        "colab": {
          "base_uri": "https://localhost:8080/",
          "height": 178
        },
        "id": "B4Z5W_ag0vfs",
        "outputId": "b8682fc2-9fee-487f-f2ba-e32994751dbc"
      },
      "outputs": [
        {
          "output_type": "execute_result",
          "data": {
            "text/plain": [
              "sentiment\n",
              "1    501\n",
              "0    499\n",
              "Name: count, dtype: int64"
            ],
            "text/html": [
              "<div>\n",
              "<style scoped>\n",
              "    .dataframe tbody tr th:only-of-type {\n",
              "        vertical-align: middle;\n",
              "    }\n",
              "\n",
              "    .dataframe tbody tr th {\n",
              "        vertical-align: top;\n",
              "    }\n",
              "\n",
              "    .dataframe thead th {\n",
              "        text-align: right;\n",
              "    }\n",
              "</style>\n",
              "<table border=\"1\" class=\"dataframe\">\n",
              "  <thead>\n",
              "    <tr style=\"text-align: right;\">\n",
              "      <th></th>\n",
              "      <th>count</th>\n",
              "    </tr>\n",
              "    <tr>\n",
              "      <th>sentiment</th>\n",
              "      <th></th>\n",
              "    </tr>\n",
              "  </thead>\n",
              "  <tbody>\n",
              "    <tr>\n",
              "      <th>1</th>\n",
              "      <td>501</td>\n",
              "    </tr>\n",
              "    <tr>\n",
              "      <th>0</th>\n",
              "      <td>499</td>\n",
              "    </tr>\n",
              "  </tbody>\n",
              "</table>\n",
              "</div><br><label><b>dtype:</b> int64</label>"
            ]
          },
          "metadata": {},
          "execution_count": 3
        }
      ],
      "source": [
        "sample_df['sentiment'].value_counts()"
      ]
    },
    {
      "cell_type": "code",
      "execution_count": 4,
      "metadata": {
        "id": "tbbX4QWd0z3i"
      },
      "outputs": [],
      "source": [
        "from sklearn.model_selection import train_test_split\n",
        "\n",
        "X_train, X_test, y_train, y_test = train_test_split(sample_df['clean_review'], sample_df['sentiment'], test_size=0.3, random_state=42)\n"
      ]
    },
    {
      "cell_type": "code",
      "execution_count": 23,
      "metadata": {
        "id": "XDouGVIv04nn"
      },
      "outputs": [],
      "source": [
        "tfidf_vectorizer = TfidfVectorizer(max_features=1500)\n",
        "X_train_tfidf = tfidf_vectorizer.fit_transform(X_train)\n",
        "X_test_tfidf = tfidf_vectorizer.transform(X_test)"
      ]
    },
    {
      "cell_type": "markdown",
      "source": [
        "#### Random Forest Model"
      ],
      "metadata": {
        "id": "cOtYdtVMI6WM"
      }
    },
    {
      "cell_type": "code",
      "execution_count": 6,
      "metadata": {
        "colab": {
          "base_uri": "https://localhost:8080/"
        },
        "id": "NGEWzQaC1Jbo",
        "outputId": "edbf41a7-5474-4991-b862-e3e96a9eea9c"
      },
      "outputs": [
        {
          "output_type": "stream",
          "name": "stdout",
          "text": [
            "Random Forest Performance with TF-IDF:\n",
            "Classification Report:\n",
            "               precision    recall  f1-score   support\n",
            "\n",
            "           0       0.76      0.80      0.78       151\n",
            "           1       0.79      0.74      0.77       149\n",
            "\n",
            "    accuracy                           0.77       300\n",
            "   macro avg       0.77      0.77      0.77       300\n",
            "weighted avg       0.77      0.77      0.77       300\n",
            "\n",
            "Accuracy: 0.7733333333333333\n",
            "AUC-ROC: 0.7731454731321393\n",
            "Confusion Matrix:\n",
            " [[121  30]\n",
            " [ 38 111]]\n",
            "F1 Score: 0.7655172413793103\n",
            "Precision: 0.7872340425531915\n",
            "Recall: 0.7449664429530202\n"
          ]
        }
      ],
      "source": [
        "from sklearn.ensemble import RandomForestClassifier\n",
        "from sklearn.metrics import classification_report, accuracy_score, roc_auc_score, confusion_matrix,f1_score,recall_score,precision_score\n",
        "\n",
        "\n",
        "rf = RandomForestClassifier(random_state=42)\n",
        "\n",
        "rf.fit(X_train_tfidf, y_train)\n",
        "\n",
        "\n",
        "\n",
        "y_pred_rf = rf.predict(X_test_tfidf)\n",
        "\n",
        "print(\"Random Forest Performance with TF-IDF:\")\n",
        "print(\"Classification Report:\\n\", classification_report(y_test, y_pred_rf))\n",
        "print(\"Accuracy:\", accuracy_score(y_test, y_pred_rf))\n",
        "print(\"AUC-ROC:\", roc_auc_score(y_test, y_pred_rf))\n",
        "print(\"Confusion Matrix:\\n\", confusion_matrix(y_test, y_pred_rf))\n",
        "print(\"F1 Score:\", f1_score(y_test, y_pred_rf))\n",
        "print(\"Precision:\",precision_score(y_test, y_pred_rf))\n",
        "print(\"Recall:\", recall_score(y_test, y_pred_rf))"
      ]
    },
    {
      "cell_type": "markdown",
      "source": [
        "#### NAIVE BAYES Model"
      ],
      "metadata": {
        "id": "C4inUwedJBRl"
      }
    },
    {
      "cell_type": "code",
      "execution_count": 7,
      "metadata": {
        "colab": {
          "base_uri": "https://localhost:8080/"
        },
        "id": "hYpPCAIH1Pln",
        "outputId": "3c0d6229-d83d-4017-81fb-55923208690c"
      },
      "outputs": [
        {
          "output_type": "stream",
          "name": "stdout",
          "text": [
            "Naive Bayes Performance with TF-IDF:\n",
            "Classification Report:\n",
            "               precision    recall  f1-score   support\n",
            "\n",
            "           0       0.76      0.78      0.77       151\n",
            "           1       0.77      0.75      0.76       149\n",
            "\n",
            "    accuracy                           0.77       300\n",
            "   macro avg       0.77      0.77      0.77       300\n",
            "weighted avg       0.77      0.77      0.77       300\n",
            "\n",
            "Accuracy: 0.7666666666666667\n",
            "AUC-ROC: 0.7665674029956887\n",
            "Confusion Matrix:\n",
            " [[118  33]\n",
            " [ 37 112]]\n",
            "F1 Score: 0.7619047619047619\n",
            "Precision: 0.7724137931034483\n",
            "Recall: 0.7516778523489933\n"
          ]
        }
      ],
      "source": [
        "from sklearn.naive_bayes import MultinomialNB\n",
        "\n",
        "nb = MultinomialNB()\n",
        "nb.fit(X_train_tfidf, y_train)\n",
        "\n",
        "\n",
        "y_pred_nb = nb.predict(X_test_tfidf)\n",
        "\n",
        "print(\"Naive Bayes Performance with TF-IDF:\")\n",
        "\n",
        "print(\"Classification Report:\\n\", classification_report(y_test, y_pred_nb))\n",
        "print(\"Accuracy:\", accuracy_score(y_test, y_pred_nb))\n",
        "print(\"AUC-ROC:\", roc_auc_score(y_test, y_pred_nb))\n",
        "print(\"Confusion Matrix:\\n\", confusion_matrix(y_test, y_pred_nb))\n",
        "print(\"F1 Score:\", f1_score(y_test, y_pred_nb))\n",
        "print(\"Precision:\",precision_score(y_test, y_pred_nb))\n",
        "print(\"Recall:\", recall_score(y_test, y_pred_nb))"
      ]
    },
    {
      "cell_type": "markdown",
      "source": [],
      "metadata": {
        "id": "EADBqSOdJGe5"
      }
    },
    {
      "cell_type": "markdown",
      "source": [
        "#### Support Vector Model"
      ],
      "metadata": {
        "id": "5qvGQulJJKMc"
      }
    },
    {
      "cell_type": "code",
      "execution_count": 8,
      "metadata": {
        "colab": {
          "base_uri": "https://localhost:8080/"
        },
        "id": "gWuHi0z01VoP",
        "outputId": "34bc6d99-449a-4021-e742-84378e610346"
      },
      "outputs": [
        {
          "output_type": "stream",
          "name": "stdout",
          "text": [
            "SVM Performance with TF-IDF:\n",
            "Classification Report:\n",
            "               precision    recall  f1-score   support\n",
            "\n",
            "           0       0.75      0.83      0.79       151\n",
            "           1       0.81      0.72      0.76       149\n",
            "\n",
            "    accuracy                           0.78       300\n",
            "   macro avg       0.78      0.78      0.78       300\n",
            "weighted avg       0.78      0.78      0.78       300\n",
            "\n",
            "Accuracy: 0.7766666666666666\n",
            "AUC-ROC: 0.8558158140361795\n",
            "Confusion Matrix:\n",
            " [[126  25]\n",
            " [ 42 107]]\n",
            "F1 Score: 0.7615658362989324\n",
            "Precision: 0.8106060606060606\n",
            "Recall: 0.7181208053691275\n"
          ]
        }
      ],
      "source": [
        "from sklearn.metrics import classification_report, accuracy_score, roc_auc_score, confusion_matrix\n",
        "\n",
        "\n",
        "svm = SVC(random_state=42, probability=True)\n",
        "\n",
        "svm.fit(X_train_tfidf, y_train)\n",
        "\n",
        "\n",
        "\n",
        "y_pred_svm = svm.predict(X_test_tfidf)\n",
        "y_pred_svm_proba = svm.predict_proba(X_test_tfidf)[:, 1]\n",
        "\n",
        "print(\"SVM Performance with TF-IDF:\")\n",
        "print(\"Classification Report:\\n\", classification_report(y_test, y_pred_svm))\n",
        "print(\"Accuracy:\", accuracy_score(y_test, y_pred_svm))\n",
        "print(\"AUC-ROC:\", roc_auc_score(y_test, y_pred_svm_proba))\n",
        "print(\"Confusion Matrix:\\n\", confusion_matrix(y_test, y_pred_svm))\n",
        "print(\"F1 Score:\", f1_score(y_test, y_pred_svm))\n",
        "print(\"Precision:\",precision_score(y_test, y_pred_svm))\n",
        "print(\"Recall:\", recall_score(y_test, y_pred_svm))"
      ]
    },
    {
      "cell_type": "markdown",
      "source": [
        "#### Logistic Regression Model"
      ],
      "metadata": {
        "id": "U_UnMoHhJR04"
      }
    },
    {
      "cell_type": "code",
      "execution_count": 9,
      "metadata": {
        "colab": {
          "base_uri": "https://localhost:8080/"
        },
        "id": "9CWdJ7mw1cZj",
        "outputId": "fe1c7176-3753-4cc7-a9f1-26d186920e73"
      },
      "outputs": [
        {
          "output_type": "stream",
          "name": "stdout",
          "text": [
            "Logistic Regression Performance with TF-IDF:\n",
            "Classification Report:\n",
            "               precision    recall  f1-score   support\n",
            "\n",
            "           0       0.76      0.83      0.79       151\n",
            "           1       0.81      0.74      0.77       149\n",
            "\n",
            "    accuracy                           0.78       300\n",
            "   macro avg       0.79      0.78      0.78       300\n",
            "weighted avg       0.79      0.78      0.78       300\n",
            "\n",
            "Accuracy: 0.7833333333333333\n",
            "AUC-ROC: 0.7830348015467354\n",
            "Confusion Matrix:\n",
            " [[125  26]\n",
            " [ 39 110]]\n",
            "F1 Score: 0.7719298245614035\n",
            "Precision: 0.8088235294117647\n",
            "Recall: 0.738255033557047\n"
          ]
        }
      ],
      "source": [
        "from sklearn.linear_model import LogisticRegression\n",
        "from sklearn.metrics import classification_report, accuracy_score, roc_auc_score, confusion_matrix\n",
        "\n",
        "LR = LogisticRegression(random_state=42, max_iter=1000)\n",
        "\n",
        "LR.fit(X_train_tfidf, y_train)\n",
        "\n",
        "\n",
        "\n",
        "y_pred_logistic = LR.predict(X_test_tfidf)\n",
        "\n",
        "print(\"Logistic Regression Performance with TF-IDF:\")\n",
        "\n",
        "print(\"Classification Report:\\n\", classification_report(y_test, y_pred_logistic))\n",
        "print(\"Accuracy:\", accuracy_score(y_test, y_pred_logistic))\n",
        "print(\"AUC-ROC:\", roc_auc_score(y_test, y_pred_logistic))\n",
        "print(\"Confusion Matrix:\\n\", confusion_matrix(y_test, y_pred_logistic))\n",
        "print(\"F1 Score:\", f1_score(y_test, y_pred_logistic))\n",
        "print(\"Precision:\",precision_score(y_test, y_pred_logistic))\n",
        "print(\"Recall:\", recall_score(y_test, y_pred_logistic))"
      ]
    },
    {
      "cell_type": "markdown",
      "source": [
        "#### Layered Neural Network"
      ],
      "metadata": {
        "id": "LAJ4yhImJYku"
      }
    },
    {
      "cell_type": "code",
      "source": [
        "from tensorflow.keras.models import Sequential\n",
        "from tensorflow.keras.layers import Bidirectional, LSTM, Dense, Dropout\n",
        "\n",
        "X_train_tfidf_dense = X_train_tfidf.toarray()\n",
        "X_test_tfidf_dense = X_test_tfidf.toarray()\n",
        "\n",
        "model = Sequential()\n",
        "model.add(Dense(units=512, activation='relu', input_dim=X_train_tfidf_dense.shape[1]))\n",
        "model.add(Dense(units=256, activation='relu'))\n",
        "model.add(Dense(128, activation='relu'))\n",
        "model.add(Dropout(0.5))\n",
        "model.add(Dense(64, activation='relu'))\n",
        "model.add(Dropout(0.4))\n",
        "model.add(Dense(units=1, activation='sigmoid'))\n",
        "\n",
        "\n",
        "\n",
        "model.compile(optimizer='Adam', loss='binary_crossentropy', metrics=['accuracy'])\n",
        "model.summary()\n",
        "\n",
        "history = model.fit(X_train_tfidf_dense, y_train, epochs=15, batch_size=10, validation_data=(X_test_tfidf_dense, y_test))\n",
        "\n",
        "test_loss, test_accuracy = model.evaluate(X_test_tfidf_dense, y_test)\n",
        "print(f\"Test Accuracy: {test_accuracy:.4f}\")\n",
        "\n",
        "y_pred_dl = model.predict(X_test_tfidf_dense)\n",
        "y_pred_classes = (y_pred > 0.5).astype(int)\n",
        "\n",
        "print(classification_report(y_test, y_pred_classes))\n",
        "print(\"Classification Report:\\n\", classification_report(y_test, y_pred_classes))\n",
        "print(\"Accuracy:\", accuracy_score(y_test, y_pred_classes))\n",
        "print(\"AUC-ROC:\", roc_auc_score(y_test, y_pred_dl))\n",
        "print(\"Confusion Matrix:\\n\", confusion_matrix(y_test, y_pred_classes))\n",
        "print(\"F1 Score:\", f1_score(y_test, y_pred_classes))\n",
        "print(\"Precision:\",precision_score(y_test, y_pred_classes))\n",
        "print(\"Recall:\", recall_score(y_test, y_pred_classes))\n"
      ],
      "metadata": {
        "colab": {
          "base_uri": "https://localhost:8080/"
        },
        "id": "vnApPPWi5p0p",
        "outputId": "6a4d7469-592b-4611-aee8-dc52c90bb9f5"
      },
      "execution_count": 56,
      "outputs": [
        {
          "output_type": "stream",
          "name": "stdout",
          "text": [
            "Model: \"sequential_18\"\n",
            "_________________________________________________________________\n",
            " Layer (type)                Output Shape              Param #   \n",
            "=================================================================\n",
            " dense_72 (Dense)            (None, 512)               768512    \n",
            "                                                                 \n",
            " dense_73 (Dense)            (None, 256)               131328    \n",
            "                                                                 \n",
            " dense_74 (Dense)            (None, 128)               32896     \n",
            "                                                                 \n",
            " dropout_28 (Dropout)        (None, 128)               0         \n",
            "                                                                 \n",
            " dense_75 (Dense)            (None, 64)                8256      \n",
            "                                                                 \n",
            " dropout_29 (Dropout)        (None, 64)                0         \n",
            "                                                                 \n",
            " dense_76 (Dense)            (None, 1)                 65        \n",
            "                                                                 \n",
            "=================================================================\n",
            "Total params: 941057 (3.59 MB)\n",
            "Trainable params: 941057 (3.59 MB)\n",
            "Non-trainable params: 0 (0.00 Byte)\n",
            "_________________________________________________________________\n",
            "Epoch 1/15\n",
            "70/70 [==============================] - 1s 9ms/step - loss: 0.6733 - accuracy: 0.5814 - val_loss: 0.6028 - val_accuracy: 0.6467\n",
            "Epoch 2/15\n",
            "70/70 [==============================] - 0s 6ms/step - loss: 0.3605 - accuracy: 0.8629 - val_loss: 0.4712 - val_accuracy: 0.7867\n",
            "Epoch 3/15\n",
            "70/70 [==============================] - 0s 6ms/step - loss: 0.0413 - accuracy: 0.9929 - val_loss: 1.1551 - val_accuracy: 0.7633\n",
            "Epoch 4/15\n",
            "70/70 [==============================] - 0s 6ms/step - loss: 0.0155 - accuracy: 0.9971 - val_loss: 0.9551 - val_accuracy: 0.7667\n",
            "Epoch 5/15\n",
            "70/70 [==============================] - 0s 6ms/step - loss: 0.0016 - accuracy: 1.0000 - val_loss: 1.1423 - val_accuracy: 0.7867\n",
            "Epoch 6/15\n",
            "70/70 [==============================] - 0s 6ms/step - loss: 0.0010 - accuracy: 1.0000 - val_loss: 1.2854 - val_accuracy: 0.7867\n",
            "Epoch 7/15\n",
            "70/70 [==============================] - 0s 6ms/step - loss: 4.6790e-04 - accuracy: 1.0000 - val_loss: 1.3849 - val_accuracy: 0.7867\n",
            "Epoch 8/15\n",
            "70/70 [==============================] - 0s 6ms/step - loss: 3.2586e-04 - accuracy: 1.0000 - val_loss: 1.4593 - val_accuracy: 0.7800\n",
            "Epoch 9/15\n",
            "70/70 [==============================] - 0s 6ms/step - loss: 1.2313e-04 - accuracy: 1.0000 - val_loss: 1.5060 - val_accuracy: 0.7867\n",
            "Epoch 10/15\n",
            "70/70 [==============================] - 0s 6ms/step - loss: 1.0762e-04 - accuracy: 1.0000 - val_loss: 1.5558 - val_accuracy: 0.7833\n",
            "Epoch 11/15\n",
            "70/70 [==============================] - 0s 6ms/step - loss: 1.1405e-04 - accuracy: 1.0000 - val_loss: 1.5962 - val_accuracy: 0.7833\n",
            "Epoch 12/15\n",
            "70/70 [==============================] - 0s 6ms/step - loss: 1.5515e-04 - accuracy: 1.0000 - val_loss: 1.6325 - val_accuracy: 0.7800\n",
            "Epoch 13/15\n",
            "70/70 [==============================] - 0s 6ms/step - loss: 1.0949e-04 - accuracy: 1.0000 - val_loss: 1.6873 - val_accuracy: 0.7867\n",
            "Epoch 14/15\n",
            "70/70 [==============================] - 0s 6ms/step - loss: 3.2528e-05 - accuracy: 1.0000 - val_loss: 1.7156 - val_accuracy: 0.7833\n",
            "Epoch 15/15\n",
            "70/70 [==============================] - 0s 6ms/step - loss: 1.1595e-04 - accuracy: 1.0000 - val_loss: 1.7453 - val_accuracy: 0.7800\n",
            "10/10 [==============================] - 0s 3ms/step - loss: 1.7453 - accuracy: 0.7800\n",
            "Test Accuracy: 0.7800\n",
            "10/10 [==============================] - 0s 2ms/step\n",
            "              precision    recall  f1-score   support\n",
            "\n",
            "           0       0.65      0.69      0.67       151\n",
            "           1       0.67      0.63      0.65       149\n",
            "\n",
            "    accuracy                           0.66       300\n",
            "   macro avg       0.66      0.66      0.66       300\n",
            "weighted avg       0.66      0.66      0.66       300\n",
            "\n",
            "Classification Report:\n",
            "               precision    recall  f1-score   support\n",
            "\n",
            "           0       0.65      0.69      0.67       151\n",
            "           1       0.67      0.63      0.65       149\n",
            "\n",
            "    accuracy                           0.66       300\n",
            "   macro avg       0.66      0.66      0.66       300\n",
            "weighted avg       0.66      0.66      0.66       300\n",
            "\n",
            "Accuracy: 0.66\n",
            "AUC-ROC: 0.8548824392195208\n",
            "Confusion Matrix:\n",
            " [[104  47]\n",
            " [ 55  94]]\n",
            "F1 Score: 0.6482758620689655\n",
            "Precision: 0.6666666666666666\n",
            "Recall: 0.6308724832214765\n"
          ]
        }
      ]
    },
    {
      "cell_type": "markdown",
      "source": [
        "#### Bidirectional LSTM Model"
      ],
      "metadata": {
        "id": "FzwesA8fKLWE"
      }
    },
    {
      "cell_type": "code",
      "source": [
        "\n",
        "X_train_tfidf_reshaped = X_train_tfidf_dense.reshape(X_train_tfidf_dense.shape[0], X_train_tfidf_dense.shape[1], 1)\n",
        "X_test_tfidf_reshaped = X_test_tfidf_dense.reshape(X_test_tfidf_dense.shape[0], X_test_tfidf_dense.shape[1], 1)\n",
        "\n",
        "from tensorflow.keras.models import Sequential\n",
        "from tensorflow.keras.layers import Bidirectional, LSTM, Dense, Dropout\n",
        "\n",
        "\n",
        "model = Sequential()\n",
        "model.add(Bidirectional(LSTM(512, input_shape=(X_train_tfidf_reshaped.shape[1], X_train_tfidf_reshaped.shape[2]))))\n",
        "model.add(Dense(256, activation='relu'))\n",
        "model.add(Dense(128, activation='relu'))\n",
        "model.add(Dropout(0.4))\n",
        "model.add(Dense(32, activation='relu'))\n",
        "model.add(Dropout(0.5))\n",
        "model.add(Dense(1, activation='sigmoid'))\n",
        "\n",
        "model.compile(optimizer='adam', loss='binary_crossentropy', metrics=['accuracy'])\n",
        "\n",
        "\n",
        "history = model.fit(X_train_tfidf_reshaped, y_train, epochs=6, batch_size=10, validation_data=(X_test_tfidf_reshaped, y_test))\n",
        "\n",
        "test_loss, test_accuracy = model.evaluate(X_test_tfidf_reshaped, y_test)\n",
        "print(f\"Test Accuracy: {test_accuracy:.4f}\")\n",
        "\n",
        "y_pred_dl = model.predict(X_test_tfidf_reshaped)\n",
        "y_pred_classes = (y_pred > 0.5).astype(int)\n",
        "\n",
        "print(classification_report(y_test, y_pred_classes))\n",
        "print(\"Classification Report:\\n\", classification_report(y_test, y_pred_classes))\n",
        "print(\"Accuracy:\", accuracy_score(y_test, y_pred_classes))\n",
        "print(\"AUC-ROC:\", roc_auc_score(y_test, y_pred_dl))\n",
        "print(\"Confusion Matrix:\\n\", confusion_matrix(y_test, y_pred_classes))\n",
        "print(\"F1 Score:\", f1_score(y_test, y_pred_classes))\n",
        "print(\"Precision:\",precision_score(y_test, y_pred_classes))\n",
        "print(\"Recall:\", recall_score(y_test, y_pred_classes))\n"
      ],
      "metadata": {
        "colab": {
          "base_uri": "https://localhost:8080/"
        },
        "id": "ZronLcIzBIFa",
        "outputId": "6fb2553d-bc1a-4a3d-b8d3-a2de41961bc6"
      },
      "execution_count": 55,
      "outputs": [
        {
          "output_type": "stream",
          "name": "stdout",
          "text": [
            "Epoch 1/6\n",
            "70/70 [==============================] - 189s 3s/step - loss: 0.6952 - accuracy: 0.4857 - val_loss: 0.6932 - val_accuracy: 0.4967\n",
            "Epoch 2/6\n",
            "70/70 [==============================] - 183s 3s/step - loss: 0.6949 - accuracy: 0.4814 - val_loss: 0.6931 - val_accuracy: 0.5033\n",
            "Epoch 3/6\n",
            "70/70 [==============================] - 183s 3s/step - loss: 0.6944 - accuracy: 0.4757 - val_loss: 0.6932 - val_accuracy: 0.4967\n",
            "Epoch 4/6\n",
            "70/70 [==============================] - 183s 3s/step - loss: 0.6935 - accuracy: 0.5100 - val_loss: 0.6932 - val_accuracy: 0.4967\n",
            "Epoch 5/6\n",
            "70/70 [==============================] - 182s 3s/step - loss: 0.6943 - accuracy: 0.4843 - val_loss: 0.6932 - val_accuracy: 0.4967\n",
            "Epoch 6/6\n",
            "70/70 [==============================] - 183s 3s/step - loss: 0.6929 - accuracy: 0.5286 - val_loss: 0.6932 - val_accuracy: 0.4967\n",
            "10/10 [==============================] - 17s 2s/step - loss: 0.6932 - accuracy: 0.4967\n",
            "Test Accuracy: 0.4967\n",
            "10/10 [==============================] - 17s 2s/step\n",
            "              precision    recall  f1-score   support\n",
            "\n",
            "           0       0.65      0.69      0.67       151\n",
            "           1       0.67      0.63      0.65       149\n",
            "\n",
            "    accuracy                           0.66       300\n",
            "   macro avg       0.66      0.66      0.66       300\n",
            "weighted avg       0.66      0.66      0.66       300\n",
            "\n",
            "Classification Report:\n",
            "               precision    recall  f1-score   support\n",
            "\n",
            "           0       0.65      0.69      0.67       151\n",
            "           1       0.67      0.63      0.65       149\n",
            "\n",
            "    accuracy                           0.66       300\n",
            "   macro avg       0.66      0.66      0.66       300\n",
            "weighted avg       0.66      0.66      0.66       300\n",
            "\n",
            "Accuracy: 0.66\n",
            "AUC-ROC: 0.5330681363616161\n",
            "Confusion Matrix:\n",
            " [[104  47]\n",
            " [ 55  94]]\n",
            "F1 Score: 0.6482758620689655\n",
            "Precision: 0.6666666666666666\n",
            "Recall: 0.6308724832214765\n"
          ]
        }
      ]
    },
    {
      "cell_type": "markdown",
      "source": [
        "### Conclusion:\n",
        "The SVM model and Logistic Regression Model show the best results bu since we are more focused on the precision and recall we are gonna move ahed with The SVM model."
      ],
      "metadata": {
        "id": "2pI0emRsMCiH"
      }
    },
    {
      "cell_type": "markdown",
      "source": [
        "#### Hyperparameter tuning the SVM model"
      ],
      "metadata": {
        "id": "hS2R3_3CNASH"
      }
    },
    {
      "cell_type": "code",
      "source": [
        "from sklearn.model_selection import GridSearchCV\n",
        "from sklearn.svm import SVC\n",
        "\n",
        "param_grid = {\n",
        "    'C': [0.1, 1, 10, 100, 1000,5000],\n",
        "    'kernel': ['linear', 'rbf', 'poly', 'sigmoid'],\n",
        "    'gamma': ['scale', 'auto'],\n",
        "    'degree': [2, 3, 4,8,16]\n",
        "}\n",
        "\n",
        "svm = SVC(random_state=42, probability=True)\n",
        "\n",
        "grid_search = GridSearchCV(estimator=svm, param_grid=param_grid, cv=5, scoring='f1', verbose=1, n_jobs=-1)\n",
        "\n",
        "grid_search.fit(X_train_tfidf, y_train)\n",
        "\n",
        "best_params = grid_search.best_params_\n",
        "print(\"Best Parameters found by GridSearchCV:\", best_params)\n",
        "\n",
        "best_svm = grid_search.best_estimator_\n",
        "\n",
        "y_pred_svm = best_svm.predict(X_test_tfidf)\n",
        "y_pred_svm_proba = best_svm.predict_proba(X_test_tfidf)[:, 1]\n",
        "\n",
        "print(\"Classification Report:\\n\", classification_report(y_test, y_pred_svm))\n",
        "print(\"Accuracy:\", accuracy_score(y_test, y_pred_svm))\n",
        "print(\"AUC-ROC:\", roc_auc_score(y_test, y_pred_svm_proba))\n",
        "print(\"Confusion Matrix:\\n\", confusion_matrix(y_test, y_pred_svm))\n",
        "print(\"F1 Score:\", f1_score(y_test, y_pred_svm))\n",
        "print(\"Precision:\",precision_score(y_test, y_pred_svm))\n",
        "print(\"Recall:\", recall_score(y_test, y_pred_svm))\n"
      ],
      "metadata": {
        "colab": {
          "base_uri": "https://localhost:8080/"
        },
        "id": "mmlhRT2NM_pY",
        "outputId": "c2ad035c-bd9c-4616-f100-b28c38f5f691"
      },
      "execution_count": 60,
      "outputs": [
        {
          "output_type": "stream",
          "name": "stdout",
          "text": [
            "Fitting 5 folds for each of 240 candidates, totalling 1200 fits\n",
            "Best Parameters found by GridSearchCV: {'C': 10, 'degree': 2, 'gamma': 'scale', 'kernel': 'rbf'}\n",
            "Classification Report:\n",
            "               precision    recall  f1-score   support\n",
            "\n",
            "           0       0.77      0.82      0.79       151\n",
            "           1       0.80      0.74      0.77       149\n",
            "\n",
            "    accuracy                           0.78       300\n",
            "   macro avg       0.78      0.78      0.78       300\n",
            "weighted avg       0.78      0.78      0.78       300\n",
            "\n",
            "Accuracy: 0.7833333333333333\n",
            "AUC-ROC: 0.8584381528067914\n",
            "Confusion Matrix:\n",
            " [[124  27]\n",
            " [ 38 111]]\n",
            "F1 Score: 0.7735191637630662\n",
            "Precision: 0.8043478260869565\n",
            "Recall: 0.7449664429530202\n"
          ]
        }
      ]
    },
    {
      "cell_type": "code",
      "source": [],
      "metadata": {
        "id": "5gpvSkRBO91r"
      },
      "execution_count": null,
      "outputs": []
    }
  ],
  "metadata": {
    "accelerator": "TPU",
    "colab": {
      "gpuType": "V28",
      "provenance": []
    },
    "kernelspec": {
      "display_name": "Python 3",
      "name": "python3"
    },
    "language_info": {
      "name": "python"
    }
  },
  "nbformat": 4,
  "nbformat_minor": 0
}